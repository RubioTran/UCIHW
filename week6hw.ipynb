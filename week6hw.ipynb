{
 "cells": [
  {
   "cell_type": "markdown",
   "metadata": {},
   "source": [
    "# WeatherPy"
   ]
  },
  {
   "cell_type": "raw",
   "metadata": {},
   "source": [
    "Your objective is to build a series of scatter plots to showcase the following relationships:\n",
    "\n",
    "* Temperature (F) vs. Latitude\n",
    "* Humidity (%) vs. Latitude\n",
    "* Cloudiness (%) vs. Latitude\n",
    "* Wind Speed (mph) vs. Latitude\n",
    "\n",
    "Your final notebook must:\n",
    "\n",
    "* Randomly select **at least** 500 unique (non-repeat) cities based on latitude and longitude.\n",
    "* Perform a weather check on each of the cities using a series of successive API calls. \n",
    "* Include a print log of each city as it's being processed with the city number, city name, and requested URL.\n",
    "* Save both a CSV of all data retrieved and png images for each scatter plot.\n",
    "\n",
    "As final considerations:\n",
    "\n",
    "* You must use the Matplotlib and Seaborn libraries.\n",
    "* You must include a written description of three observable trends based on the data. \n",
    "* You must use proper labeling of your plots, including aspects like: Plot Titles (with date of analysis) and Axes Labels.\n",
    "* You must include an exported markdown version of your Notebook called  `README.md` in your GitHub repository.  \n",
    "* See [Example Solution](WeatherPy_Example.pdf) for a reference on expected format. "
   ]
  },
  {
   "cell_type": "code",
   "execution_count": 241,
   "metadata": {
    "collapsed": true
   },
   "outputs": [],
   "source": [
    "#Dependencies\n",
    "import numpy as np\n",
    "import pandas as pd\n",
    "import matplotlib.pyplot as plt \n",
    "import requests as req\n",
    "from citipy import citipy\n",
    "from random import *"
   ]
  },
  {
   "cell_type": "code",
   "execution_count": 261,
   "metadata": {},
   "outputs": [],
   "source": [
    "#COULD NOT FIGURE OUT HOW TO CREATE RANDOM COORDINATES THAT DO NOT REPEAT\n",
    "\n",
    "\n",
    "#Create a blank list where random coordinates would append to\n",
    "coord_list = []\n",
    "\n",
    "#Create function that creates x,y coordinates based on actual coordinate min and max\n",
    "def rand_coord():\n",
    "    return uniform(-90,90), uniform(-180, 180)\n",
    "\n",
    "#Run function x times\n",
    "coordinates = (rand_coord() for x in range(10))\n",
    "\n",
    "#Create for loop that grabs \n",
    "for point in coordinates:\n",
    "    coord_list.append(point)\n",
    "\n",
    "#Check results are coorect\n",
    "#print(coord_list)"
   ]
  },
  {
   "cell_type": "code",
   "execution_count": 262,
   "metadata": {},
   "outputs": [
    {
     "name": "stdout",
     "output_type": "stream",
     "text": [
      "Random city # 1 Bolungarvik\n",
      "Random city # 2 San Cayetano\n",
      "Random city # 3 Mount Isa\n",
      "Random city # 4 Ushuaia\n",
      "Random city # 5 Bluff\n",
      "Random city # 6 Ushuaia\n",
      "Random city # 7 Vila Franca Do Campo\n",
      "Random city # 8 Illoqqortoormiut\n",
      "Random city # 9 Rosarno\n",
      "Random city # 10 Port Elizabeth\n",
      "['Bolungarvik', 'San Cayetano', 'Mount Isa', 'Ushuaia', 'Bluff', 'Ushuaia', 'Vila Franca Do Campo', 'Illoqqortoormiut', 'Rosarno', 'Port Elizabeth']\n"
     ]
    }
   ],
   "source": [
    "cities = []\n",
    "city_list = []\n",
    "row_count = 0\n",
    "\n",
    "\n",
    "for coordinate_pair in coord_list:\n",
    "    lat, lon = coordinate_pair\n",
    "    cities.append(citipy.nearest_city(lat, lon))\n",
    "\n",
    "for city in cities:\n",
    "    name = city.city_name.title()\n",
    "    row_count += 1\n",
    "    city_list.append(name)\n",
    "    if row_count < 11: #used to print header of city names\n",
    "        print(\"Random city #\", row_count, name)\n",
    "    else:\n",
    "        continue\n",
    "    \n",
    "print(city_list[:10])"
   ]
  },
  {
   "cell_type": "code",
   "execution_count": 263,
   "metadata": {},
   "outputs": [],
   "source": [
    "#OpenWeatherMap API Keys\n",
    "api_key = \"547b743253122674d8a844103121c10e\" #API key user: RubioTran\n",
    "\n",
    "target_city = \"PLACEHOLDER\"\n",
    "\n",
    "# Endpoint URL for five day forecast Phoenix, AZ\n",
    "target_url = \"http://api.openweathermap.org/data/2.5/forecast?q=%s&units=IMPERIAL&mode=json&APPID=%s\" % \\\n",
    "(target_city, api_key)"
   ]
  },
  {
   "cell_type": "code",
   "execution_count": 264,
   "metadata": {},
   "outputs": [
    {
     "name": "stdout",
     "output_type": "stream",
     "text": [
      "http://api.openweathermap.org/data/2.5/forecast?q=PLACEHOLDER&units=IMPERIAL&mode=json&APPID=547b743253122674d8a844103121c10e\n",
      "http://api.openweathermap.org/data/2.5/forecast?q=PLACEHOLDER&units=IMPERIAL&mode=json&APPID=547b743253122674d8a844103121c10e\n",
      "http://api.openweathermap.org/data/2.5/forecast?q=PLACEHOLDER&units=IMPERIAL&mode=json&APPID=547b743253122674d8a844103121c10e\n",
      "http://api.openweathermap.org/data/2.5/forecast?q=PLACEHOLDER&units=IMPERIAL&mode=json&APPID=547b743253122674d8a844103121c10e\n",
      "http://api.openweathermap.org/data/2.5/forecast?q=PLACEHOLDER&units=IMPERIAL&mode=json&APPID=547b743253122674d8a844103121c10e\n",
      "http://api.openweathermap.org/data/2.5/forecast?q=PLACEHOLDER&units=IMPERIAL&mode=json&APPID=547b743253122674d8a844103121c10e\n",
      "http://api.openweathermap.org/data/2.5/forecast?q=PLACEHOLDER&units=IMPERIAL&mode=json&APPID=547b743253122674d8a844103121c10e\n",
      "http://api.openweathermap.org/data/2.5/forecast?q=PLACEHOLDER&units=IMPERIAL&mode=json&APPID=547b743253122674d8a844103121c10e\n",
      "http://api.openweathermap.org/data/2.5/forecast?q=PLACEHOLDER&units=IMPERIAL&mode=json&APPID=547b743253122674d8a844103121c10e\n",
      "http://api.openweathermap.org/data/2.5/forecast?q=PLACEHOLDER&units=IMPERIAL&mode=json&APPID=547b743253122674d8a844103121c10e\n"
     ]
    }
   ],
   "source": [
    "for city in city_list:\n",
    "    city = target_city\n",
    "    target_url = \"http://api.openweathermap.org/data/2.5/forecast?q=%s&units=IMPERIAL&mode=json&APPID=%s\" % (target_city, api_key)\n",
    "    weather_data = req.get(target_url).json()\n",
    "    print(target_url)\n",
    "    #print(weather_data[cannot determine since I am blocked...])\n"
   ]
  },
  {
   "cell_type": "code",
   "execution_count": null,
   "metadata": {
    "collapsed": true
   },
   "outputs": [],
   "source": []
  }
 ],
 "metadata": {
  "kernelspec": {
   "display_name": "Python 3",
   "language": "python",
   "name": "python3"
  },
  "language_info": {
   "codemirror_mode": {
    "name": "ipython",
    "version": 3
   },
   "file_extension": ".py",
   "mimetype": "text/x-python",
   "name": "python",
   "nbconvert_exporter": "python",
   "pygments_lexer": "ipython3",
   "version": "3.6.2"
  }
 },
 "nbformat": 4,
 "nbformat_minor": 2
}
