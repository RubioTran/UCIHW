{
 "cells": [
  {
   "cell_type": "code",
   "execution_count": 81,
   "metadata": {
    "collapsed": true
   },
   "outputs": [],
   "source": [
    "from numpy import genfromtxt\n",
    "from time import time\n",
    "from datetime import datetime\n",
    "from sqlalchemy import Column, Integer, Float, Date, String, VARCHAR\n",
    "from sqlalchemy.ext.declarative import declarative_base\n",
    "from sqlalchemy import create_engine\n",
    "from sqlalchemy.orm import sessionmaker\n",
    "import csv\n",
    "import pandas as pd\n",
    "\n",
    "\n",
    "#def Load_Data(file_name):\n",
    "    #data = csv.reader(file_name, delimiter=',')# skiprows=1, converters={0: lambda s: str(s)})\n",
    "    #return data.tolist()\n",
    "\n",
    "Base = declarative_base()"
   ]
  },
  {
   "cell_type": "code",
   "execution_count": 82,
   "metadata": {},
   "outputs": [],
   "source": [
    "class Stations(Base):\n",
    "    #Tell SQLAlchemy what the table name is and if there's any table-specific arguments it should know about\n",
    "    __tablename__ = 'stations'\n",
    "    __table_args__ = {'sqlite_autoincrement': True}\n",
    "    __table_args__ = {'extend_existing': True} \n",
    "    #tell SQLAlchemy the name of column and its attributes:\n",
    "    id = Column(Integer, primary_key=True, nullable=False) \n",
    "    station = Column(VARCHAR(40))\n",
    "    name = Column(VARCHAR(40))\n",
    "    latitude = Column(Float)\n",
    "    longitude = Column(Float)\n",
    "    elevation = Column(Float)"
   ]
  },
  {
   "cell_type": "code",
   "execution_count": 83,
   "metadata": {
    "collapsed": true
   },
   "outputs": [],
   "source": [
    "engine = create_engine('sqlite:///hawaii.sqlite')\n",
    "Base.metadata.create_all(engine)\n",
    "file_name = 'hawaii_stations.csv'\n",
    "df = pd.read_csv(file_name)"
   ]
  },
  {
   "cell_type": "code",
   "execution_count": 84,
   "metadata": {},
   "outputs": [],
   "source": [
    "df.to_sql(con=engine, index_label='id', name=Stations.__tablename__, if_exists='replace')"
   ]
  },
  {
   "cell_type": "code",
   "execution_count": 85,
   "metadata": {},
   "outputs": [
    {
     "name": "stdout",
     "output_type": "stream",
     "text": [
      "   id      station                                    name  latitude  \\\n",
      "0   0  USC00519397                    WAIKIKI 717.2, HI US   21.2716   \n",
      "1   1  USC00513117                    KANEOHE 838.1, HI US   21.4234   \n",
      "2   2  USC00514830  KUALOA RANCH HEADQUARTERS 886.9, HI US   21.5213   \n",
      "3   3  USC00517948                       PEARL CITY, HI US   21.3934   \n",
      "4   4  USC00518838              UPPER WAHIAWA 874.3, HI US   21.4992   \n",
      "\n",
      "   longitude  elevation  \n",
      "0  -157.8168        3.0  \n",
      "1  -157.8015       14.6  \n",
      "2  -157.8374        7.0  \n",
      "3  -157.9751       11.9  \n",
      "4  -158.0111      306.6  \n"
     ]
    }
   ],
   "source": [
    "import sqlite3\n",
    "\n",
    "# Read sqlite query results into a pandas DataFrame\n",
    "con = sqlite3.connect(\"hawaii.sqlite\")\n",
    "df = pd.read_sql_query(\"SELECT * from stations\", con)\n",
    "\n",
    "# verify that result of SQL query is stored in the dataframe\n",
    "print(df.head())\n",
    "\n",
    "con.close()"
   ]
  },
  {
   "cell_type": "code",
   "execution_count": 86,
   "metadata": {},
   "outputs": [],
   "source": [
    "class Measurements(Base):\n",
    "    __tablename__ = 'measurements'\n",
    "    __table_args__ = {'sqlite_autoincrement': True}\n",
    "    __table_args__ = {'extend_existing': True} \n",
    "    id = Column(Integer, primary_key=True)\n",
    "    station =  Column(String(50))\n",
    "    date = Column(String(50))\n",
    "    prcp = Column(Float)\n",
    "    tobs = Column(Float)"
   ]
  },
  {
   "cell_type": "code",
   "execution_count": 93,
   "metadata": {
    "collapsed": true
   },
   "outputs": [],
   "source": [
    "file_name2 = 'clean_hawaii_measurements.csv'\n",
    "df2 = pd.read_csv(file_name2)"
   ]
  },
  {
   "cell_type": "code",
   "execution_count": 94,
   "metadata": {},
   "outputs": [],
   "source": [
    "df2.to_sql(con=engine, index_label='id', name=Measurements.__tablename__, if_exists='replace')"
   ]
  },
  {
   "cell_type": "code",
   "execution_count": 95,
   "metadata": {},
   "outputs": [
    {
     "name": "stdout",
     "output_type": "stream",
     "text": [
      "   id      station        date  prcp  tobs\n",
      "0   0  USC00519397  2010-01-01  0.08    65\n",
      "1   1  USC00519397  2010-01-02  0.00    63\n",
      "2   2  USC00519397  2010-01-03  0.00    74\n",
      "3   3  USC00519397  2010-01-04  0.00    76\n",
      "4   4  USC00519397  2010-01-06  0.00    73\n"
     ]
    }
   ],
   "source": [
    "import sqlite3\n",
    "\n",
    "# Read sqlite query results into a pandas DataFrame\n",
    "con = sqlite3.connect(\"hawaii.sqlite\")\n",
    "df = pd.read_sql_query(\"SELECT * from measurements\", con)\n",
    "\n",
    "# verify that result of SQL query is stored in the dataframe\n",
    "print(df.head())\n",
    "\n",
    "con.close()"
   ]
  },
  {
   "cell_type": "code",
   "execution_count": null,
   "metadata": {
    "collapsed": true
   },
   "outputs": [],
   "source": []
  }
 ],
 "metadata": {
  "kernelspec": {
   "display_name": "Python 3",
   "language": "python",
   "name": "python3"
  },
  "language_info": {
   "codemirror_mode": {
    "name": "ipython",
    "version": 3
   },
   "file_extension": ".py",
   "mimetype": "text/x-python",
   "name": "python",
   "nbconvert_exporter": "python",
   "pygments_lexer": "ipython3",
   "version": "3.6.2"
  }
 },
 "nbformat": 4,
 "nbformat_minor": 2
}
