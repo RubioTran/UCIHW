{
 "cells": [
  {
   "cell_type": "code",
   "execution_count": 141,
   "metadata": {
    "collapsed": true
   },
   "outputs": [],
   "source": [
    "from bs4 import BeautifulSoup\n",
    "import requests\n",
    "from splinter import Browser\n",
    "from selenium import webdriver"
   ]
  },
  {
   "cell_type": "code",
   "execution_count": 142,
   "metadata": {
    "collapsed": true
   },
   "outputs": [],
   "source": [
    "## Step 1 - Scraping"
   ]
  },
  {
   "cell_type": "code",
   "execution_count": 143,
   "metadata": {
    "collapsed": true
   },
   "outputs": [],
   "source": [
    "### NASA Mars News"
   ]
  },
  {
   "cell_type": "code",
   "execution_count": 144,
   "metadata": {
    "collapsed": true
   },
   "outputs": [],
   "source": [
    "url_1 = \"https://mars.nasa.gov/news/\""
   ]
  },
  {
   "cell_type": "code",
   "execution_count": 145,
   "metadata": {},
   "outputs": [],
   "source": [
    "response = requests.get(url1)"
   ]
  },
  {
   "cell_type": "code",
   "execution_count": 146,
   "metadata": {
    "collapsed": true
   },
   "outputs": [],
   "source": [
    "soup = BeautifulSoup(response.text, 'html.parser')"
   ]
  },
  {
   "cell_type": "code",
   "execution_count": 147,
   "metadata": {},
   "outputs": [],
   "source": [
    "#print(soup.prettify())"
   ]
  },
  {
   "cell_type": "code",
   "execution_count": 148,
   "metadata": {},
   "outputs": [],
   "source": [
    "results = soup.find_all('div', class_=\"content_title\")"
   ]
  },
  {
   "cell_type": "code",
   "execution_count": 149,
   "metadata": {},
   "outputs": [
    {
     "name": "stdout",
     "output_type": "stream",
     "text": [
      "NASA Tests Atomic Clock for Deep Space Navigation\n"
     ]
    }
   ],
   "source": [
    "news_title = results[0].text.strip()\n",
    "print(news_title)"
   ]
  },
  {
   "cell_type": "code",
   "execution_count": 150,
   "metadata": {},
   "outputs": [
    {
     "name": "stdout",
     "output_type": "stream",
     "text": [
      "Project could help spacecraft keep time more efficiently and allow ground stations to better track multiple satellites at once near crowded areas like Mars.\n"
     ]
    }
   ],
   "source": [
    "teasers = soup.find_all('div', class_=\"rollover_description_inner\")\n",
    "news_p = teasers[0].text.strip()\n",
    "print(news_p)"
   ]
  },
  {
   "cell_type": "code",
   "execution_count": 151,
   "metadata": {},
   "outputs": [
    {
     "name": "stdout",
     "output_type": "stream",
     "text": [
      "NASA Tests Atomic Clock for Deep Space Navigation\n",
      "Project could help spacecraft keep time more efficiently and allow ground stations to better track multiple satellites at once near crowded areas like Mars.\n"
     ]
    }
   ],
   "source": [
    "print(news_title)\n",
    "print(news_p)"
   ]
  },
  {
   "cell_type": "code",
   "execution_count": 152,
   "metadata": {
    "collapsed": true
   },
   "outputs": [],
   "source": [
    "### JPL Mars Space Images - Featured Image"
   ]
  },
  {
   "cell_type": "code",
   "execution_count": 153,
   "metadata": {
    "collapsed": true
   },
   "outputs": [],
   "source": [
    "executable_path = {'executable_path': 'chromedriver'}"
   ]
  },
  {
   "cell_type": "code",
   "execution_count": 154,
   "metadata": {
    "collapsed": true
   },
   "outputs": [],
   "source": [
    "url_2 = \"https://www.jpl.nasa.gov/spaceimages/?search=&category=Mars\""
   ]
  },
  {
   "cell_type": "code",
   "execution_count": 155,
   "metadata": {},
   "outputs": [],
   "source": [
    "browser = Browser('chrome', headless=False)\n",
    "browser.visit(url_2)"
   ]
  },
  {
   "cell_type": "code",
   "execution_count": 156,
   "metadata": {},
   "outputs": [],
   "source": [
    "html = browser.html\n",
    "soup_2 = BeautifulSoup(html, 'html.parser')"
   ]
  },
  {
   "cell_type": "code",
   "execution_count": 157,
   "metadata": {},
   "outputs": [],
   "source": [
    "browser.click_link_by_partial_text('FULL IMAGE')"
   ]
  },
  {
   "cell_type": "code",
   "execution_count": 158,
   "metadata": {},
   "outputs": [
    {
     "data": {
      "text/plain": [
       "[<footer>\n",
       " <a class=\"button fancybox\" data-description=\"In this February 2015 scene from a clean room at Lockheed Martin Space Systems, Denver, specialists are building the heat shield to protect NASA's InSight spacecraft when it is speeding through the Martian atmosphere.\" data-fancybox-group=\"images\" data-fancybox-href=\"/spaceimages/images/mediumsize/PIA19404_ip.jpg\" data-link=\"/spaceimages/details.php?id=PIA19404\" data-title=\"Heat Shield Construction for NASA's InSight Mission\" id=\"full_image\">\n",
       " \t\t\t\t\tFULL IMAGE\n",
       " \t\t\t\t  </a>\n",
       " </footer>, <footer>\n",
       " <div class=\"more_button\">\n",
       " <a class=\"button\" href=\"\">\n",
       " \t\t\t\tMORE\n",
       " \t\t\t  </a>\n",
       " </div>\n",
       " </footer>, <footer>\n",
       " <a class=\"outline_button dark\" href=\"/news\">\n",
       " \t\t\t  more news\n",
       " \t\t\t</a>\n",
       " </footer>, <footer class=\"clearfix\" id=\"site_footer\">\n",
       " <section class=\"upper_footer\">\n",
       " <div class=\"grid_layout\">\n",
       " <div class=\"footer_newsletter\">\n",
       " <h2>Get the Newsletter</h2>\n",
       " <form action=\"/signup/index.php\" class=\"submit_newsletter\" method=\"post\">\n",
       " <input class=\"email_field\" name=\"email_field\" onblur=\"this.placeholder = 'enter email address'\" onfocus=\"this.placeholder = ''\" placeholder=\"enter email address\" type=\"email\" value=\"\"/>\n",
       " <input class=\"email_submit\" type=\"submit\" value=\"\"/>\n",
       " </form>\n",
       " </div>\n",
       " <div class=\"gradient_line_divider\"></div>\n",
       " <div class=\"share\">\n",
       " <h2>Follow JPL</h2>\n",
       " <div class=\"social_icons\">\n",
       " <!-- AddThis Button BEGIN -->\n",
       " <div class=\"addthis_toolbox addthis_default_style addthis_32x32_style\">\n",
       " <a addthis:userid=\"NASAJPL\" class=\"addthis_button_facebook_follow icon at300b\" href=\"http://www.facebook.com/NASAJPL\" target=\"_blank\" title=\"Follow on Facebook\"><span class=\"at-icon-wrapper\" style=\"background-color: rgb(59, 89, 152); line-height: 32px; height: 32px; width: 32px;\"><svg alt=\"Facebook\" aria-labelledby=\"at-svg-facebook-5\" class=\"at-icon at-icon-facebook\" role=\"img\" style=\"width: 32px; height: 32px;\" title=\"Facebook\" version=\"1.1\" viewbox=\"0 0 32 32\" xmlns=\"http://www.w3.org/2000/svg\" xmlns:xlink=\"http://www.w3.org/1999/xlink\"><title id=\"at-svg-facebook-5\" xmlns=\"http://www.w3.org/1999/xhtml\">Facebook</title><g><path d=\"M22 5.16c-.406-.054-1.806-.16-3.43-.16-3.4 0-5.733 1.825-5.733 5.17v2.882H9v3.913h3.837V27h4.604V16.965h3.823l.587-3.913h-4.41v-2.5c0-1.123.347-1.903 2.198-1.903H22V5.16z\" fill-rule=\"evenodd\"></path></g></svg></span><span class=\"addthis_follow_label\">Facebook</span></a>\n",
       " <a addthis:userid=\"NASAJPL\" class=\"addthis_button_twitter_follow icon at300b\" href=\"//twitter.com/NASAJPL\" target=\"_blank\" title=\"Follow on Twitter\"><span class=\"at-icon-wrapper\" style=\"background-color: rgb(29, 161, 242); line-height: 32px; height: 32px; width: 32px;\"><svg alt=\"Twitter\" aria-labelledby=\"at-svg-twitter-6\" class=\"at-icon at-icon-twitter\" role=\"img\" style=\"width: 32px; height: 32px;\" title=\"Twitter\" version=\"1.1\" viewbox=\"0 0 32 32\" xmlns=\"http://www.w3.org/2000/svg\" xmlns:xlink=\"http://www.w3.org/1999/xlink\"><title id=\"at-svg-twitter-6\" xmlns=\"http://www.w3.org/1999/xhtml\">Twitter</title><g><path d=\"M27.996 10.116c-.81.36-1.68.602-2.592.71a4.526 4.526 0 0 0 1.984-2.496 9.037 9.037 0 0 1-2.866 1.095 4.513 4.513 0 0 0-7.69 4.116 12.81 12.81 0 0 1-9.3-4.715 4.49 4.49 0 0 0-.612 2.27 4.51 4.51 0 0 0 2.008 3.755 4.495 4.495 0 0 1-2.044-.564v.057a4.515 4.515 0 0 0 3.62 4.425 4.52 4.52 0 0 1-2.04.077 4.517 4.517 0 0 0 4.217 3.134 9.055 9.055 0 0 1-5.604 1.93A9.18 9.18 0 0 1 6 23.85a12.773 12.773 0 0 0 6.918 2.027c8.3 0 12.84-6.876 12.84-12.84 0-.195-.005-.39-.014-.583a9.172 9.172 0 0 0 2.252-2.336\" fill-rule=\"evenodd\"></path></g></svg></span><span class=\"addthis_follow_label\">Twitter</span></a>\n",
       " <a addthis:userid=\"JPLnews\" class=\"addthis_button_youtube_follow icon at300b\" href=\"http://www.youtube.com/user/JPLnews?sub_confirmation=1\" target=\"_blank\" title=\"Follow on YouTube\"><span class=\"at-icon-wrapper\" style=\"background-color: rgb(205, 32, 31); line-height: 32px; height: 32px; width: 32px;\"><svg alt=\"YouTube\" aria-labelledby=\"at-svg-youtube-7\" class=\"at-icon at-icon-youtube\" role=\"img\" style=\"width: 32px; height: 32px;\" title=\"YouTube\" version=\"1.1\" viewbox=\"0 0 32 32\" xmlns=\"http://www.w3.org/2000/svg\" xmlns:xlink=\"http://www.w3.org/1999/xlink\"><title id=\"at-svg-youtube-7\" xmlns=\"http://www.w3.org/1999/xhtml\">YouTube</title><g><path d=\"M13.73 18.974V12.57l5.945 3.212-5.944 3.192zm12.18-9.778c-.837-.908-1.775-.912-2.205-.965C20.625 8 16.007 8 16.007 8c-.01 0-4.628 0-7.708.23-.43.054-1.368.058-2.205.966-.66.692-.875 2.263-.875 2.263S5 13.303 5 15.15v1.728c0 1.845.22 3.69.22 3.69s.215 1.57.875 2.262c.837.908 1.936.88 2.426.975 1.76.175 7.482.23 7.482.15 0 .08 4.624.072 7.703-.16.43-.052 1.368-.057 2.205-.965.66-.69.875-2.262.875-2.262s.22-1.845.22-3.69v-1.73c0-1.844-.22-3.69-.22-3.69s-.215-1.57-.875-2.262z\" fill-rule=\"evenodd\"></path></g></svg></span><span class=\"addthis_follow_label\">YouTube</span></a>\n",
       " <a addthis:userid=\"nasajpl\" class=\"addthis_button_instagram_follow icon at300b\" href=\"http://instagram.com/nasajpl\" target=\"_blank\" title=\"Follow on Instagram\"><span class=\"at-icon-wrapper\" style=\"background-color: rgb(224, 53, 102); line-height: 32px; height: 32px; width: 32px;\"><svg alt=\"Instagram\" aria-labelledby=\"at-svg-instagram-8\" class=\"at-icon at-icon-instagram\" role=\"img\" style=\"width: 32px; height: 32px;\" title=\"Instagram\" version=\"1.1\" viewbox=\"0 0 32 32\" xmlns=\"http://www.w3.org/2000/svg\" xmlns:xlink=\"http://www.w3.org/1999/xlink\"><title id=\"at-svg-instagram-8\" xmlns=\"http://www.w3.org/1999/xhtml\">Instagram</title><g><path d=\"M16 5c-2.987 0-3.362.013-4.535.066-1.17.054-1.97.24-2.67.512a5.392 5.392 0 0 0-1.95 1.268 5.392 5.392 0 0 0-1.267 1.95c-.272.698-.458 1.498-.512 2.67C5.013 12.637 5 13.012 5 16s.013 3.362.066 4.535c.054 1.17.24 1.97.512 2.67.28.724.657 1.337 1.268 1.95a5.392 5.392 0 0 0 1.95 1.268c.698.27 1.498.457 2.67.51 1.172.054 1.547.067 4.534.067s3.362-.013 4.535-.066c1.17-.054 1.97-.24 2.67-.51a5.392 5.392 0 0 0 1.95-1.27 5.392 5.392 0 0 0 1.268-1.95c.27-.698.457-1.498.51-2.67.054-1.172.067-1.547.067-4.534s-.013-3.362-.066-4.535c-.054-1.17-.24-1.97-.51-2.67a5.392 5.392 0 0 0-1.27-1.95 5.392 5.392 0 0 0-1.95-1.267c-.698-.272-1.498-.458-2.67-.512C19.363 5.013 18.988 5 16 5zm0 1.982c2.937 0 3.285.01 4.445.064 1.072.05 1.655.228 2.042.38.514.198.88.437 1.265.822.385.385.624.75.823 1.265.15.387.33.97.38 2.042.052 1.16.063 1.508.063 4.445 0 2.937-.01 3.285-.064 4.445-.05 1.072-.228 1.655-.38 2.042-.198.514-.437.88-.822 1.265-.385.385-.75.624-1.265.823-.387.15-.97.33-2.042.38-1.16.052-1.508.063-4.445.063-2.937 0-3.285-.01-4.445-.064-1.072-.05-1.655-.228-2.042-.38-.514-.198-.88-.437-1.265-.822a3.408 3.408 0 0 1-.823-1.265c-.15-.387-.33-.97-.38-2.042-.052-1.16-.063-1.508-.063-4.445 0-2.937.01-3.285.064-4.445.05-1.072.228-1.655.38-2.042.198-.514.437-.88.822-1.265.385-.385.75-.624 1.265-.823.387-.15.97-.33 2.042-.38 1.16-.052 1.508-.063 4.445-.063zm0 12.685a3.667 3.667 0 1 1 0-7.334 3.667 3.667 0 0 1 0 7.334zm0-9.316a5.65 5.65 0 1 0 0 11.3 5.65 5.65 0 0 0 0-11.3zm7.192-.222a1.32 1.32 0 1 1-2.64 0 1.32 1.32 0 0 1 2.64 0\" fill-rule=\"evenodd\"></path></g></svg></span><span class=\"addthis_follow_label\">Instagram</span></a>\n",
       " <a class=\"icon all_icon\" href=\"/social\">\n",
       " <span>All</span>\n",
       " </a>\n",
       " <div class=\"atclear\"></div></div>\n",
       " <script>\n",
       "                     addthis_loader.init(\"//s7.addthis.com/js/300/addthis_widget.js#pubid=ra-5429eeee4e460927\", {follow: true})\n",
       "                   </script>\n",
       " </div>\n",
       " </div>\n",
       " </div>\n",
       " <div class=\"gradient_line\"></div>\n",
       " </section>\n",
       " <section class=\"sitemap\">\n",
       " <div class=\"grid_layout\">\n",
       " <div class=\"sitemap_directory\">\n",
       " <div class=\"sitemap_block\">\n",
       " <div class=\"footer_sitemap_item\">\n",
       " <h3 class=\"sitemap_title\">\n",
       "                       about JPL\n",
       "                     </h3>\n",
       " <ul class=\"subnav\">\n",
       " <li>\n",
       " <a href=\"/about/\">About JPL</a>\n",
       " </li>\n",
       " <li>\n",
       " <a href=\"/about/exec.php\">Executive Council</a>\n",
       " </li>\n",
       " <li>\n",
       " <a href=\"/about/history.php\">History</a>\n",
       " </li>\n",
       " <li>\n",
       " <a href=\"/about/reports.php\">Annual Reports</a>\n",
       " </li>\n",
       " <li>\n",
       " <a href=\"/contact_JPL.php\">Contact Us</a>\n",
       " </li>\n",
       " <li>\n",
       " <a href=\"/opportunities/\">Opportunities</a>\n",
       " </li>\n",
       " <li>\n",
       " <a href=\"/acquisition/\">Doing Business with JPL</a>\n",
       " </li>\n",
       " </ul>\n",
       " </div>\n",
       " <div class=\"footer_sitemap_item\">\n",
       " <h3 class=\"sitemap_title\">\n",
       "                       missions\n",
       "                     </h3>\n",
       " <ul class=\"subnav\">\n",
       " <li>\n",
       " <a href=\"/missions/?type=current\">Current</a>\n",
       " </li>\n",
       " <li>\n",
       " <a href=\"/missions/?type=past\">Past</a>\n",
       " </li>\n",
       " <li>\n",
       " <a href=\"/missions/?type=future\">Future</a>\n",
       " </li>\n",
       " <li>\n",
       " <a href=\"/missions/?type=proposed\">Proposed</a>\n",
       " </li>\n",
       " <li>\n",
       " <a href=\"/missions\">All</a>\n",
       " </li>\n",
       " </ul>\n",
       " </div>\n",
       " <div class=\"footer_sitemap_item\">\n",
       " <h3 class=\"sitemap_title\">\n",
       "                       galleries\n",
       "                     </h3>\n",
       " <ul class=\"subnav\">\n",
       " <li>\n",
       " <a href=\"/spaceimages/\">JPL Space Images</a>\n",
       " </li>\n",
       " <li>\n",
       " <a href=\"/videos/\">Videos</a>\n",
       " </li>\n",
       " <li>\n",
       " <a href=\"/infographics/\">Infographics</a>\n",
       " </li>\n",
       " <li>\n",
       " <a href=\"https://photojournal.jpl.nasa.gov/\">Photojournal</a>\n",
       " </li>\n",
       " <li>\n",
       " <a href=\"http://www.nasaimages.org/\">NASA Images</a>\n",
       " </li>\n",
       " <li>\n",
       " <a href=\"/apps/\">Mobile Apps</a>\n",
       " </li>\n",
       " </ul>\n",
       " </div>\n",
       " </div>\n",
       " <div class=\"sitemap_block\">\n",
       " <div class=\"footer_sitemap_item\">\n",
       " <h3 class=\"sitemap_title\">\n",
       "                       education\n",
       "                     </h3>\n",
       " <ul class=\"subnav\">\n",
       " <li>\n",
       " <a href=\"/edu/intern/\">Intern</a>\n",
       " </li>\n",
       " <li>\n",
       " <a href=\"/edu/learn/\">Learn</a>\n",
       " </li>\n",
       " <li>\n",
       " <a href=\"/edu/teach/\">Teach</a>\n",
       " </li>\n",
       " <li>\n",
       " <a href=\"/edu/news/\">News</a>\n",
       " </li>\n",
       " <li>\n",
       " <a href=\"/edu/events/\">Events</a>\n",
       " </li>\n",
       " </ul>\n",
       " </div>\n",
       " <div class=\"footer_sitemap_item\">\n",
       " <h3 class=\"sitemap_title\">\n",
       "                       news\n",
       "                     </h3>\n",
       " <ul class=\"subnav\">\n",
       " <li>\n",
       " <a href=\"/news\">Latest News</a>\n",
       " </li>\n",
       " <li>\n",
       " <a href=\"/news/presskits.php\">Press Kits</a>\n",
       " </li>\n",
       " <li>\n",
       " <a href=\"/news/factsheets.php\">Fact Sheets</a>\n",
       " </li>\n",
       " <li>\n",
       " <a href=\"/news/mediainformation.php\">Media Information</a>\n",
       " </li>\n",
       " <li>\n",
       " <a href=\"/universe/\">Universe Newspaper</a>\n",
       " </li>\n",
       " </ul>\n",
       " </div>\n",
       " <div class=\"footer_sitemap_item\">\n",
       " <h3 class=\"sitemap_title\">\n",
       "                       public events</h3>\n",
       " <ul class=\"subnav\">\n",
       " <li>\n",
       " <a href=\"/events/\">Overview</a>\n",
       " </li>\n",
       " <li>\n",
       " <a href=\"/events/tours/views/\">Tours</a>\n",
       " </li>\n",
       " <li>\n",
       " <a href=\"/events/lectures.php\">Lecture Series</a>\n",
       " </li>\n",
       " <li>\n",
       " <a href=\"/events/speakers-bureau.php\">Speakers Bureau</a>\n",
       " </li>\n",
       " <li>\n",
       " <a href=\"/events/team-competitions.php\">Team Competitions</a>\n",
       " </li>\n",
       " <li>\n",
       " <a href=\"/events/special-events.php\">Special Events</a>\n",
       " </li>\n",
       " </ul>\n",
       " </div>\n",
       " </div>\n",
       " <div class=\"sitemap_block\">\n",
       " <div class=\"footer_sitemap_item\">\n",
       " <h3 class=\"sitemap_title\">\n",
       "                       Our Sites\n",
       "                     </h3>\n",
       " <ul class=\"subnav\">\n",
       " <li>\n",
       " <a href=\"/asteroidwatch/\">Asteroid Watch</a>\n",
       " </li>\n",
       " <li>\n",
       " <a href=\"http://saturn.jpl.nasa.gov/index.cfm\">Cassini - Mission to Saturn</a>\n",
       " </li>\n",
       " <li>\n",
       " <a href=\"http://climate.nasa.gov\">Earth / Global Climate Change</a>\n",
       " </li>\n",
       " <li>\n",
       " <a href=\"http://planetquest.jpl.nasa.gov\">Exoplanet Exploration</a>\n",
       " </li>\n",
       " <li>\n",
       " <a href=\"/missions/juno/\">Juno - Mission to Jupiter</a>\n",
       " </li>\n",
       " <li>\n",
       " <a href=\"http://marsprogram.jpl.nasa.gov/\">Mars Exploration</a>\n",
       " </li>\n",
       " <li>\n",
       " <a href=\"http://marsprogram.jpl.nasa.gov/msl/\">Mars Science Laboratory / Curiosity</a>\n",
       " </li>\n",
       " <li>\n",
       " <a href=\"http://rosetta.jpl.nasa.gov/\">Rosetta - Understanding Comets</a>\n",
       " </li>\n",
       " <li>\n",
       " <a href=\"http://scienceandtechnology.jpl.nasa.gov/\">Science and Technology</a>\n",
       " </li>\n",
       " <li>\n",
       " <a href=\"http://solarsystem.nasa.gov/\">Solar System Exploration</a>\n",
       " </li>\n",
       " <li>\n",
       " <a href=\"http://eyes.nasa.gov/\">Eyes on the Solar System</a>\n",
       " </li>\n",
       " <li>\n",
       " <a href=\"http://eyes.nasa.gov/earth/\">Eyes on the Earth</a>\n",
       " </li>\n",
       " <li>\n",
       " <a href=\"http://eyes.nasa.gov/exoplanets/\">Eyes on Exoplanets</a>\n",
       " </li>\n",
       " <li>\n",
       " <a href=\"http://www.spitzer.caltech.edu/\">Spitzer Space Telescope</a>\n",
       " </li>\n",
       " </ul>\n",
       " </div>\n",
       " </div>\n",
       " <div class=\"sitemap_block\">\n",
       " <div class=\"footer_sitemap_item\">\n",
       " <h3 class=\"sitemap_title\">\n",
       "                       Follow JPL\n",
       "                     </h3>\n",
       " <ul class=\"subnav\">\n",
       " <li>\n",
       " <a href=\"/signup/\">Newsletter</a>\n",
       " </li>\n",
       " <li>\n",
       " <a href=\"https://www.facebook.com/NASAJPL\">Facebook</a>\n",
       " </li>\n",
       " <li>\n",
       " <a href=\"http://twitter.com/NASAJPL\">Twitter</a>\n",
       " </li>\n",
       " <li>\n",
       " <a href=\"http://www.youtube.com/user/JPLnews\">YouTube</a>\n",
       " </li>\n",
       " <li>\n",
       " <a href=\"http://www.flickr.com/photos/nasa-jpl\">Flickr</a>\n",
       " </li>\n",
       " <li>\n",
       " <a href=\"http://instagram.com/nasajpl\">Instagram</a>\n",
       " </li>\n",
       " <li>\n",
       " <a href=\"https://www.linkedin.com/company/2004/\">LinkedIn</a>\n",
       " </li>\n",
       " <li>\n",
       " <a href=\"http://itunes.apple.com/podcast/hd-nasas-jet-propulsion-laboratory/id262254981\">iTunes</a>\n",
       " </li>\n",
       " <li>\n",
       " <a href=\"http://www.ustream.tv/nasajpl\">UStream</a>\n",
       " </li>\n",
       " <li>\n",
       " <a href=\"/rss/\">RSS</a>\n",
       " </li>\n",
       " <li>\n",
       " <a href=\"http://blogs.jpl.nasa.gov\">Blog</a>\n",
       " </li>\n",
       " <li>\n",
       " <a href=\"/onthego/\">Mobile</a>\n",
       " </li>\n",
       " <li>\n",
       " <a href=\"/social/\">All Social Media</a>\n",
       " </li>\n",
       " </ul>\n",
       " </div>\n",
       " <div class=\"footer_sitemap_item\">\n",
       " <h3 class=\"sitemap_title\">\n",
       "                       NASA\n",
       "                     </h3>\n",
       " <ul class=\"subnav\">\n",
       " <li>\n",
       " <a href=\"http://jplwater.nasa.gov\">NASA Water Cleanup</a>\n",
       " </li>\n",
       " <li>\n",
       " <a href=\"http://www.hq.nasa.gov/office/pao/FOIA/agency/\">FOIA</a>\n",
       " </li>\n",
       " </ul>\n",
       " </div>\n",
       " </div>\n",
       " </div>\n",
       " </div>\n",
       " <div class=\"gradient_line\"></div>\n",
       " </section>\n",
       " <section class=\"lower_footer\">\n",
       " <div class=\"nav_container\">\n",
       " <nav>\n",
       " <ul>\n",
       " <li>\n",
       " <a href=\"http://www.nasa.gov/\" target=\"_blank\">NASA</a>\n",
       " </li>\n",
       "                   |\n",
       "                   <li>\n",
       " <a href=\"http://www.caltech.edu/\" target=\"_blank\">Caltech</a>\n",
       " </li>\n",
       "                   |\n",
       "                   <li>\n",
       " <a href=\"/copyrights.php\">Privacy</a>\n",
       " </li>\n",
       "                   |\n",
       "                   <li>\n",
       " <a href=\"/imagepolicy\">Image Policy</a>\n",
       " </li>\n",
       "                   |\n",
       "                   <li>\n",
       " <a href=\"/faq.php\">FAQ</a>\n",
       " </li>\n",
       "                   |\n",
       "                   <li>\n",
       " <a href=\"/contact_JPL.php\">Feedback</a>\n",
       " </li>\n",
       " </ul>\n",
       " </nav>\n",
       " </div>\n",
       " <div class=\"credits\">\n",
       " <span class=\"credits_manager\">Site Manager: Jon Nelson</span>\n",
       " <span class=\"credits_webmaster\">Webmasters: Tony Greicius, Luis Espinoza, Anil Natha</span>\n",
       " </div>\n",
       " </section> </footer>]"
      ]
     },
     "execution_count": 158,
     "metadata": {},
     "output_type": "execute_result"
    }
   ],
   "source": [
    "full_image = soup_2.find_all('footer')\n",
    "full_image"
   ]
  },
  {
   "cell_type": "code",
   "execution_count": 159,
   "metadata": {},
   "outputs": [],
   "source": [
    "full_size = full_image[0]"
   ]
  },
  {
   "cell_type": "code",
   "execution_count": 160,
   "metadata": {},
   "outputs": [],
   "source": [
    "#print(full)"
   ]
  },
  {
   "cell_type": "code",
   "execution_count": 161,
   "metadata": {},
   "outputs": [
    {
     "data": {
      "text/plain": [
       "'/spaceimages/images/mediumsize/PIA19404_ip.jpg'"
      ]
     },
     "execution_count": 161,
     "metadata": {},
     "output_type": "execute_result"
    }
   ],
   "source": [
    "featured_image = full_size.a['data-fancybox-href']\n",
    "featured_image"
   ]
  },
  {
   "cell_type": "code",
   "execution_count": 162,
   "metadata": {},
   "outputs": [
    {
     "name": "stdout",
     "output_type": "stream",
     "text": [
      "https://www.jpl.nasa.gov/spaceimages/images/mediumsize/PIA19404_ip.jpg\n"
     ]
    }
   ],
   "source": [
    "jpl_url = 'https://www.jpl.nasa.gov'\n",
    "featured_image_url = jpl_url + featured_image\n",
    "print(featured_image_url)"
   ]
  },
  {
   "cell_type": "code",
   "execution_count": 163,
   "metadata": {
    "collapsed": true
   },
   "outputs": [],
   "source": [
    "### Mars Weather"
   ]
  },
  {
   "cell_type": "code",
   "execution_count": 164,
   "metadata": {
    "collapsed": true
   },
   "outputs": [],
   "source": [
    "import json\n",
    "import tweepy"
   ]
  },
  {
   "cell_type": "code",
   "execution_count": 165,
   "metadata": {
    "collapsed": true
   },
   "outputs": [],
   "source": [
    "consumer_key = \"NqScljb6fcL4WHIuN9iHgrkj2\"\n",
    "consumer_secret = \"bcCAGuzpSIfjWFDQfj6FbqabUN1ReIXBHwpmuKJlK2kthuuPYr\"\n",
    "access_token = \"894209492157554693-d4Lb74DTmG7DY4JYPAbfLL1RzGsWFfR\"\n",
    "access_token_secret = \"9IUVfRYP76fWRaNPP9elgsTyIq01gPpmw1HH0NOSk5tz8\""
   ]
  },
  {
   "cell_type": "code",
   "execution_count": 166,
   "metadata": {
    "collapsed": true
   },
   "outputs": [],
   "source": [
    "auth = tweepy.OAuthHandler(consumer_key, consumer_secret)\n",
    "auth.set_access_token(access_token, access_token_secret)\n",
    "api = tweepy.API(auth, parser=tweepy.parsers.JSONParser())"
   ]
  },
  {
   "cell_type": "code",
   "execution_count": 167,
   "metadata": {
    "collapsed": true
   },
   "outputs": [],
   "source": [
    "target_user = (\"@MarsWxReport\")"
   ]
  },
  {
   "cell_type": "code",
   "execution_count": 168,
   "metadata": {
    "collapsed": true
   },
   "outputs": [],
   "source": [
    "tweets = []"
   ]
  },
  {
   "cell_type": "code",
   "execution_count": 169,
   "metadata": {
    "collapsed": true
   },
   "outputs": [],
   "source": [
    "public_tweets = api.user_timeline(target_user)"
   ]
  },
  {
   "cell_type": "code",
   "execution_count": 170,
   "metadata": {},
   "outputs": [
    {
     "name": "stdout",
     "output_type": "stream",
     "text": [
      "Sol 1955 (Feb 04, 2018), Sunny, high -21C/-5F, low -77C/-106F, pressure at 7.45 hPa, daylight 05:41-17:27\n",
      "Your driver is 9 months away  @MarsCuriosity. Look for a red @Tesla with David Bowie on the stereo.  \n",
      "Thank you for… https://t.co/JEDjJ5ToVO\n",
      "Sol 1954 (Feb 03, 2018), Sunny, high -17C/1F, low -77C/-106F, pressure at 7.45 hPa, daylight 05:42-17:27\n",
      "Happy #NationalWeatherpersonsDay to all my meteorological friends back on Earth.  Take the day off, I’ve got this o… https://t.co/GJwupbqsg2\n",
      "Sol 1951 (Jan 31, 2018), Sunny, high -23C/-9F, low -77C/-106F, pressure at 7.49 hPa, daylight 05:42-17:28\n",
      "#GroundhogDay https://t.co/WEzVbWLFyH https://t.co/o5QAUdHZre\n",
      "Sol 1949 (Jan 29, 2018), Sunny, high -20C/-4F, low -78C/-108F, pressure at 7.51 hPa, daylight 05:42-17:28\n",
      "Sol 1946 (Jan 26, 2018), Sunny, high -20C/-4F, low -79C/-110F, pressure at 7.53 hPa, daylight 05:43-17:28\n",
      "observations by NASA's Mars Reconnaissance Orbiter (MRO) during the 2007 global dust storm suggest the storms play… https://t.co/GdIPRjt4VB\n",
      "Sol 1945 (Jan 25, 2018), Sunny, high -22C/-7F, low -78C/-108F, pressure at 7.51 hPa, daylight 05:43-17:28\n",
      "Happy 14th anniversary @MarsRovers Opportunity, here’s to another 7.4 more (Mars years).  That’s a lot of kilometer… https://t.co/U2OXzM0IXB\n",
      "Sol 1942 (Jan 22, 2018), Sunny, high -27C/-16F, low -78C/-108F, pressure at 7.57 hPa, daylight 05:44-17:29\n",
      "Sol 1941 (Jan 21, 2018), Sunny, high -20C/-4F, low -77C/-106F, pressure at 7.58 hPa, daylight 05:44-17:29\n",
      "Sol 1937 (Jan 17, 2018), Sunny, high -22C/-7F, low -80C/-112F, pressure at 7.63 hPa, daylight 05:45-17:29\n",
      "Sol 1935 (Jan 15, 2018), Sunny, high -21C/-5F, low -80C/-112F, pressure at 7.65 hPa, daylight 05:45-17:29\n",
      "Sol 1934 (Jan 14, 2018), Sunny, high -21C/-5F, low -79C/-110F, pressure at 7.66 hPa, daylight 05:45-17:29\n",
      "Sol 1930 (Jan 10, 2018), Sunny, high -24C/-11F, low -79C/-110F, pressure at 7.70 hPa, daylight 05:46-17:30\n",
      "Sol 1929 (Jan 09, 2018), Sunny, high -26C/-14F, low -79C/-110F, pressure at 7.71 hPa, daylight 05:46-17:30\n",
      "Sol 1927 (Jan 07, 2018), Sunny, high -24C/-11F, low -79C/-110F, pressure at 7.74 hPa, daylight 05:46-17:30\n",
      "Sol 1924 (Jan 03, 2018), Sunny, high -21C/-5F, low -78C/-108F, pressure at 7.77 hPa, daylight 05:47-17:30\n"
     ]
    }
   ],
   "source": [
    "for tweet in public_tweets:\n",
    "    print(tweet[\"text\"])   \n",
    "    tweets.append(tweet[\"text\"])"
   ]
  },
  {
   "cell_type": "code",
   "execution_count": 171,
   "metadata": {},
   "outputs": [
    {
     "data": {
      "text/plain": [
       "'Sol 1955 (Feb 04, 2018), Sunny, high -21C/-5F, low -77C/-106F, pressure at 7.45 hPa, daylight 05:41-17:27'"
      ]
     },
     "execution_count": 171,
     "metadata": {},
     "output_type": "execute_result"
    }
   ],
   "source": [
    "most_recent_tweet = tweets[0]\n",
    "most_recent_tweet"
   ]
  },
  {
   "cell_type": "code",
   "execution_count": 175,
   "metadata": {
    "collapsed": true
   },
   "outputs": [],
   "source": [
    "### Mars Facts"
   ]
  },
  {
   "cell_type": "code",
   "execution_count": 181,
   "metadata": {
    "collapsed": true
   },
   "outputs": [],
   "source": [
    "import pandas as pd"
   ]
  },
  {
   "cell_type": "code",
   "execution_count": 182,
   "metadata": {
    "collapsed": true
   },
   "outputs": [],
   "source": [
    "url_3 = \"https://space-facts.com/mars/\""
   ]
  },
  {
   "cell_type": "code",
   "execution_count": 190,
   "metadata": {},
   "outputs": [],
   "source": [
    "response_2 = requests.get(url_3)"
   ]
  },
  {
   "cell_type": "code",
   "execution_count": 191,
   "metadata": {},
   "outputs": [
    {
     "data": {
      "text/plain": [
       "[                      0                              1\n",
       " 0  Equatorial Diameter:                       6,792 km\n",
       " 1       Polar Diameter:                       6,752 km\n",
       " 2                 Mass:  6.42 x 10^23 kg (10.7% Earth)\n",
       " 3                Moons:            2 (Phobos & Deimos)\n",
       " 4       Orbit Distance:       227,943,824 km (1.52 AU)\n",
       " 5         Orbit Period:           687 days (1.9 years)\n",
       " 6  Surface Temperature:                  -153 to 20 °C\n",
       " 7         First Record:              2nd millennium BC\n",
       " 8          Recorded By:           Egyptian astronomers]"
      ]
     },
     "execution_count": 191,
     "metadata": {},
     "output_type": "execute_result"
    }
   ],
   "source": [
    "html_table = pd.read_html(url_3)\n",
    "html_table"
   ]
  },
  {
   "cell_type": "code",
   "execution_count": 196,
   "metadata": {},
   "outputs": [
    {
     "data": {
      "text/html": [
       "<div>\n",
       "<style>\n",
       "    .dataframe thead tr:only-child th {\n",
       "        text-align: right;\n",
       "    }\n",
       "\n",
       "    .dataframe thead th {\n",
       "        text-align: left;\n",
       "    }\n",
       "\n",
       "    .dataframe tbody tr th {\n",
       "        vertical-align: top;\n",
       "    }\n",
       "</style>\n",
       "<table border=\"1\" class=\"dataframe\">\n",
       "  <thead>\n",
       "    <tr style=\"text-align: right;\">\n",
       "      <th></th>\n",
       "      <th>Description</th>\n",
       "      <th>Value</th>\n",
       "    </tr>\n",
       "  </thead>\n",
       "  <tbody>\n",
       "    <tr>\n",
       "      <th>0</th>\n",
       "      <td>Equatorial Diameter:</td>\n",
       "      <td>6,792 km</td>\n",
       "    </tr>\n",
       "    <tr>\n",
       "      <th>1</th>\n",
       "      <td>Polar Diameter:</td>\n",
       "      <td>6,752 km</td>\n",
       "    </tr>\n",
       "    <tr>\n",
       "      <th>2</th>\n",
       "      <td>Mass:</td>\n",
       "      <td>6.42 x 10^23 kg (10.7% Earth)</td>\n",
       "    </tr>\n",
       "    <tr>\n",
       "      <th>3</th>\n",
       "      <td>Moons:</td>\n",
       "      <td>2 (Phobos &amp; Deimos)</td>\n",
       "    </tr>\n",
       "    <tr>\n",
       "      <th>4</th>\n",
       "      <td>Orbit Distance:</td>\n",
       "      <td>227,943,824 km (1.52 AU)</td>\n",
       "    </tr>\n",
       "    <tr>\n",
       "      <th>5</th>\n",
       "      <td>Orbit Period:</td>\n",
       "      <td>687 days (1.9 years)</td>\n",
       "    </tr>\n",
       "    <tr>\n",
       "      <th>6</th>\n",
       "      <td>Surface Temperature:</td>\n",
       "      <td>-153 to 20 °C</td>\n",
       "    </tr>\n",
       "    <tr>\n",
       "      <th>7</th>\n",
       "      <td>First Record:</td>\n",
       "      <td>2nd millennium BC</td>\n",
       "    </tr>\n",
       "    <tr>\n",
       "      <th>8</th>\n",
       "      <td>Recorded By:</td>\n",
       "      <td>Egyptian astronomers</td>\n",
       "    </tr>\n",
       "  </tbody>\n",
       "</table>\n",
       "</div>"
      ],
      "text/plain": [
       "            Description                          Value\n",
       "0  Equatorial Diameter:                       6,792 km\n",
       "1       Polar Diameter:                       6,752 km\n",
       "2                 Mass:  6.42 x 10^23 kg (10.7% Earth)\n",
       "3                Moons:            2 (Phobos & Deimos)\n",
       "4       Orbit Distance:       227,943,824 km (1.52 AU)\n",
       "5         Orbit Period:           687 days (1.9 years)\n",
       "6  Surface Temperature:                  -153 to 20 °C\n",
       "7         First Record:              2nd millennium BC\n",
       "8          Recorded By:           Egyptian astronomers"
      ]
     },
     "execution_count": 196,
     "metadata": {},
     "output_type": "execute_result"
    }
   ],
   "source": [
    "df_table = html_table[0]\n",
    "df_table.columns = ['Description', 'Value']\n",
    "df_table"
   ]
  },
  {
   "cell_type": "code",
   "execution_count": 197,
   "metadata": {},
   "outputs": [],
   "source": [
    "### Mars Hemisperes"
   ]
  },
  {
   "cell_type": "code",
   "execution_count": 198,
   "metadata": {
    "collapsed": true
   },
   "outputs": [],
   "source": [
    "url_4 = \"https://astrogeology.usgs.gov/search/results?q=hemisphere+enhanced&k1=target&v1=Mars\""
   ]
  },
  {
   "cell_type": "code",
   "execution_count": 203,
   "metadata": {
    "collapsed": true
   },
   "outputs": [],
   "source": [
    "browser.visit(url_4)\n",
    "response_4 = requests.get(url_4)\n",
    "soup_4 = BeautifulSoup(response_4.text, 'html.parser')"
   ]
  },
  {
   "cell_type": "code",
   "execution_count": 204,
   "metadata": {},
   "outputs": [
    {
     "data": {
      "text/plain": [
       "[<div class=\"item\"><a class=\"itemLink product-item\" href=\"/search/map/Mars/Viking/cerberus_enhanced\"><img alt=\"Cerberus Hemisphere Enhanced thumbnail\" class=\"thumb\" src=\"/cache/images/dfaf3849e74bf973b59eb50dab52b583_cerberus_enhanced.tif_thumb.png\"/><div class=\"description\"><h3>Cerberus Hemisphere Enhanced</h3></div></a><span class=\"subtitle\" style=\"float:left\">image/tiff 21 MB</span><span class=\"pubDate\" style=\"float:right\"></span><br/><p>Mosaic of the Cerberus hemisphere of Mars projected into point perspective, a view similar to that which one would see from a spacecraft. This mosaic is composed of 104 Viking Orbiter images acquired…</p></div>,\n",
       " <div class=\"item\"><a class=\"itemLink product-item\" href=\"/search/map/Mars/Viking/schiaparelli_enhanced\"><img alt=\"Schiaparelli Hemisphere Enhanced thumbnail\" class=\"thumb\" src=\"/cache/images/7677c0a006b83871b5a2f66985ab5857_schiaparelli_enhanced.tif_thumb.png\"/><div class=\"description\"><h3>Schiaparelli Hemisphere Enhanced</h3></div></a><span class=\"subtitle\" style=\"float:left\">image/tiff 35 MB</span><span class=\"pubDate\" style=\"float:right\"></span><br/><p>Mosaic of the Schiaparelli hemisphere of Mars projected into point perspective, a view similar to that which one would see from a spacecraft. The images were acquired in 1980 during early northern…</p></div>,\n",
       " <div class=\"item\"><a class=\"itemLink product-item\" href=\"/search/map/Mars/Viking/syrtis_major_enhanced\"><img alt=\"Syrtis Major Hemisphere Enhanced thumbnail\" class=\"thumb\" src=\"/cache/images/aae41197e40d6d4f3ea557f8cfe51d15_syrtis_major_enhanced.tif_thumb.png\"/><div class=\"description\"><h3>Syrtis Major Hemisphere Enhanced</h3></div></a><span class=\"subtitle\" style=\"float:left\">image/tiff 25 MB</span><span class=\"pubDate\" style=\"float:right\"></span><br/><p>Mosaic of the Syrtis Major hemisphere of Mars projected into point perspective, a view similar to that which one would see from a spacecraft. This mosaic is composed of about 100 red and violet…</p></div>,\n",
       " <div class=\"item\"><a class=\"itemLink product-item\" href=\"/search/map/Mars/Viking/valles_marineris_enhanced\"><img alt=\"Valles Marineris Hemisphere Enhanced thumbnail\" class=\"thumb\" src=\"/cache/images/04085d99ec3713883a9a57f42be9c725_valles_marineris_enhanced.tif_thumb.png\"/><div class=\"description\"><h3>Valles Marineris Hemisphere Enhanced</h3></div></a><span class=\"subtitle\" style=\"float:left\">image/tiff 27 MB</span><span class=\"pubDate\" style=\"float:right\"></span><br/><p>Mosaic of the Valles Marineris hemisphere of Mars projected into point perspective, a view similar to that which one would see from a spacecraft. The distance is 2500 kilometers from the surface of…</p></div>]"
      ]
     },
     "execution_count": 204,
     "metadata": {},
     "output_type": "execute_result"
    }
   ],
   "source": [
    "hemisphere = soup_4.find_all('div', class_=\"item\")\n",
    "hemisphere"
   ]
  },
  {
   "cell_type": "code",
   "execution_count": 206,
   "metadata": {},
   "outputs": [],
   "source": [
    "def click_hemisphere(title):\n",
    "    browser.click_link_by_partial_text('Enhanced')\n",
    "    browser.click_link_by_text('Sample')"
   ]
  },
  {
   "cell_type": "code",
   "execution_count": null,
   "metadata": {
    "collapsed": true
   },
   "outputs": [],
   "source": []
  }
 ],
 "metadata": {
  "kernelspec": {
   "display_name": "Python 3",
   "language": "python",
   "name": "python3"
  },
  "language_info": {
   "codemirror_mode": {
    "name": "ipython",
    "version": 3
   },
   "file_extension": ".py",
   "mimetype": "text/x-python",
   "name": "python",
   "nbconvert_exporter": "python",
   "pygments_lexer": "ipython3",
   "version": "3.6.2"
  }
 },
 "nbformat": 4,
 "nbformat_minor": 2
}
